{
 "cells": [
  {
   "cell_type": "code",
   "execution_count": 1,
   "id": "0fb81aa5-8d5c-45b4-919d-ab3fb7a24d9c",
   "metadata": {},
   "outputs": [],
   "source": [
    "class No:\n",
    "    def __init__(self, valor):\n",
    "        self.valor = valor\n",
    "        self.proximo = None\n",
    "\n",
    "class ListaEncadeada:\n",
    "    def __init__(self):\n",
    "        self.inicio = None\n",
    "\n",
    "    def inserir(self, valor):\n",
    "        novo_no = No(valor)\n",
    "        if self.inicio is None:\n",
    "            self.inicio = novo_no\n",
    "        else:\n",
    "            atual = self.inicio\n",
    "            while atual.proximo:\n",
    "                atual = atual.proximo\n",
    "            atual.proximo = novo_no\n",
    "\n",
    "    def contar(self):\n",
    "        contador = 0\n",
    "        atual = self.inicio\n",
    "        while atual:\n",
    "            contador += 1\n",
    "            atual = atual.proximo\n",
    "        return contador\n",
    "\n",
    "lista = ListaEncadeada()"
   ]
  },
  {
   "cell_type": "code",
   "execution_count": 2,
   "id": "d5ee0254-568d-4052-a0f2-552cf512e0dc",
   "metadata": {},
   "outputs": [
    {
     "name": "stdout",
     "output_type": "stream",
     "text": [
      "3\n"
     ]
    }
   ],
   "source": [
    "\n",
    "#contado os elementos\n",
    "lista.inserir(5)\n",
    "lista.inserir(15)\n",
    "lista.inserir(25)\n",
    "\n",
    "print(lista.contar())  # Saída: 3"
   ]
  }
 ],
 "metadata": {
  "kernelspec": {
   "display_name": "Python 3 (ipykernel)",
   "language": "python",
   "name": "python3"
  },
  "language_info": {
   "codemirror_mode": {
    "name": "ipython",
    "version": 3
   },
   "file_extension": ".py",
   "mimetype": "text/x-python",
   "name": "python",
   "nbconvert_exporter": "python",
   "pygments_lexer": "ipython3",
   "version": "3.12.4"
  }
 },
 "nbformat": 4,
 "nbformat_minor": 5
}
